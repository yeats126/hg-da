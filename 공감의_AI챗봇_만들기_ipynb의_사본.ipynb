{
  "cells": [
    {
      "cell_type": "markdown",
      "metadata": {
        "id": "view-in-github",
        "colab_type": "text"
      },
      "source": [
        "<a href=\"https://colab.research.google.com/github/yeats126/hg-da/blob/main/%EA%B3%B5%EA%B0%90%EC%9D%98_AI%EC%B1%97%EB%B4%87_%EB%A7%8C%EB%93%A4%EA%B8%B0_ipynb%EC%9D%98_%EC%82%AC%EB%B3%B8.ipynb\" target=\"_parent\"><img src=\"https://colab.research.google.com/assets/colab-badge.svg\" alt=\"Open In Colab\"/></a>"
      ]
    },
    {
      "cell_type": "markdown",
      "metadata": {
        "id": "ZzNDbzrWAn5z"
      },
      "source": [
        "# 공감하는 말하기 챗봇 만들기\n",
        "\n",
        "트랜스포머의 인코더 부분을 사용하여 한국어 문장 인코딩(벡터화)"
      ]
    },
    {
      "cell_type": "code",
      "execution_count": null,
      "metadata": {
        "id": "QvVZFybHBzQQ"
      },
      "outputs": [],
      "source": [
        "!pip install -q sentence-transformers"
      ]
    },
    {
      "cell_type": "code",
      "execution_count": null,
      "metadata": {
        "id": "DsBMgyQv-0vn"
      },
      "outputs": [],
      "source": [
        "import pandas as pd\n",
        "from sentence_transformers import SentenceTransformer\n",
        "from sklearn.metrics.pairwise import cosine_similarity"
      ]
    },
    {
      "cell_type": "markdown",
      "metadata": {
        "id": "dl7rtj--CV5m"
      },
      "source": [
        "## SentenceBERT를 이용한 문장 인코딩\n",
        "\n",
        "https://huggingface.co/jhgan/ko-sroberta-multitask"
      ]
    },
    {
      "cell_type": "code",
      "execution_count": null,
      "metadata": {
        "id": "YugXYMl8BxZF"
      },
      "outputs": [],
      "source": [
        "encoder = SentenceTransformer('jhgan/ko-sroberta-multitask')\n",
        "\n",
        "sentences = [\"안녕하세요?\", \"한국어 문장 임베딩을 위한 버트 모델입니다.\"]\n",
        "embeddings = encoder.encode(sentences)\n",
        "\n",
        "print(embeddings)"
      ]
    },
    {
      "cell_type": "markdown",
      "metadata": {
        "id": "NzgU5kHNC14h"
      },
      "source": [
        "## 데이터셋 로드"
      ]
    },
    {
      "cell_type": "code",
      "execution_count": null,
      "metadata": {
        "id": "vinc0Q_LCOrU"
      },
      "outputs": [],
      "source": [
        "from google.colab import drive\n",
        "\n",
        "# 구글 드라이브를 마운트합니다.\n",
        "drive.mount('/content/gdrive')\n",
        "\n",
        "import shutil\n",
        "\n",
        "# 구글 드라이브의 파일을 Colab 세션 내부로 복사합니다.\n",
        "shutil.copy(\"/content/gdrive/My Drive/worries.csv\", \"/content/worries.csv\")\n",
        "\n",
        "\n",
        "df = pd.read_csv('/content/worries.csv')\n",
        "\n",
        "df.head()"
      ]
    },
    {
      "cell_type": "markdown",
      "metadata": {
        "id": "8hKwaMALDjR_"
      },
      "source": [
        "## 데이터 전처리\n",
        "\n",
        "- 필요없는 칼럼 제거\n",
        "- 챗봇 내용 없는 행 제거"
      ]
    },
    {
      "cell_type": "code",
      "execution_count": null,
      "metadata": {
        "id": "-JtH4Ed5DTI9"
      },
      "outputs": [],
      "source": [
        "print(len(df))\n",
        "\n",
        "df = df.dropna()\n",
        "\n",
        "print(len(df))"
      ]
    },
    {
      "cell_type": "markdown",
      "metadata": {
        "id": "etN7xjl5Drbr"
      },
      "source": [
        "## 챗봇의 원리"
      ]
    },
    {
      "cell_type": "code",
      "execution_count": null,
      "metadata": {
        "id": "gC-IjM5oDZV2"
      },
      "outputs": [],
      "source": [
        "df.loc[0, '유저']"
      ]
    },
    {
      "cell_type": "code",
      "execution_count": null,
      "metadata": {
        "id": "8dWRzW5ZDrBA"
      },
      "outputs": [],
      "source": [
        "encoder.encode(df.loc[0, '유저'])"
      ]
    },
    {
      "cell_type": "markdown",
      "metadata": {
        "id": "oe39JuM5D6hE"
      },
      "source": [
        "## 모든 데이터셋 인코딩"
      ]
    },
    {
      "cell_type": "code",
      "execution_count": null,
      "metadata": {
        "id": "aITRZY6ADwFG"
      },
      "outputs": [],
      "source": [
        "df['embedding'] = pd.Series([[]] * len(df)) # dummy\n",
        "\n",
        "df['embedding'] = df['유저'].map(lambda x: list(encoder.encode(x)))\n",
        "\n",
        "df.head()"
      ]
    },
    {
      "cell_type": "markdown",
      "metadata": {
        "id": "l8q_YqiBEEBF"
      },
      "source": [
        "## 예제 문장 입력"
      ]
    },
    {
      "cell_type": "code",
      "execution_count": null,
      "metadata": {
        "id": "xI2H-dZCD9Q4"
      },
      "outputs": [],
      "source": [
        "text = '요즘 친구가 괴롭히네요.'\n",
        "\n",
        "embedding = encoder.encode(text)\n",
        "\n",
        "embedding"
      ]
    },
    {
      "cell_type": "markdown",
      "metadata": {
        "id": "zDFumvPfEVV-"
      },
      "source": [
        "## 입력된 문장에 대해 유사도 계산"
      ]
    },
    {
      "cell_type": "code",
      "execution_count": null,
      "metadata": {
        "id": "S1UvS_ziEK8Z"
      },
      "outputs": [],
      "source": [
        "df['similarity'] = df['embedding'].map(lambda x: cosine_similarity([embedding], [x]).squeeze())\n",
        "\n",
        "df.head()"
      ]
    },
    {
      "cell_type": "markdown",
      "metadata": {
        "id": "X25UYbh3EZRy"
      },
      "source": [
        "## 유사도가 가장 높은 답변을 채택"
      ]
    },
    {
      "cell_type": "code",
      "execution_count": null,
      "metadata": {
        "id": "kQiB2F84EP5U"
      },
      "outputs": [],
      "source": [
        "answer = df.loc[df['similarity'].idxmax()]\n",
        "\n",
        "print('유사한 질문', answer['유저'])\n",
        "print('챗봇 답변', answer['챗봇'])\n",
        "print('유사도', answer['similarity'])"
      ]
    },
    {
      "cell_type": "markdown",
      "metadata": {
        "id": "iMnGWgHhEgh6"
      },
      "source": [
        "## 심리상담 챗봇 앱"
      ]
    },
    {
      "cell_type": "code",
      "execution_count": null,
      "metadata": {
        "id": "IYvTpitaEkx8"
      },
      "outputs": [],
      "source": [
        "!pip install -q gradio"
      ]
    },
    {
      "cell_type": "code",
      "execution_count": null,
      "metadata": {
        "colab": {
          "base_uri": "https://localhost:8080/",
          "height": 594
        },
        "id": "SmAWSfDOEiYJ",
        "outputId": "fe0bd4eb-f388-4530-c02c-44a174e2cc1c"
      },
      "outputs": [
        {
          "metadata": {
            "tags": null
          },
          "name": "stdout",
          "output_type": "stream",
          "text": [
            "Colab notebook detected. This cell will run indefinitely so that you can see errors and logs. To turn off, set debug=False in launch().\n",
            "Running on public URL: https://f537fade1f68d52e7b.gradio.live\n",
            "\n",
            "This share link expires in 72 hours. For free permanent hosting and GPU upgrades, run `gradio deploy` from Terminal to deploy to Spaces (https://huggingface.co/spaces)\n"
          ]
        },
        {
          "data": {
            "text/html": [
              "<div><iframe src=\"https://f537fade1f68d52e7b.gradio.live\" width=\"100%\" height=\"500\" allow=\"autoplay; camera; microphone; clipboard-read; clipboard-write;\" frameborder=\"0\" allowfullscreen></iframe></div>"
            ],
            "text/plain": [
              "<IPython.core.display.HTML object>"
            ]
          },
          "metadata": {},
          "output_type": "display_data"
        }
      ],
      "source": [
        "import gradio as gr\n",
        "\n",
        "def greet(user):\n",
        "    embedding = encoder.encode(user)\n",
        "\n",
        "    df['distance'] = df['embedding'].map(lambda x: cosine_similarity([embedding], [x]).squeeze())\n",
        "    answer = df.loc[df['distance'].idxmax()]\n",
        "\n",
        "    return answer['챗봇']\n",
        "\n",
        "demo = gr.Interface(fn=greet, inputs=\"text\", outputs=\"text\")\n",
        "\n",
        "demo.launch(debug=True, share=True)"
      ]
    },
    {
      "cell_type": "code",
      "execution_count": null,
      "metadata": {
        "id": "gED0acdHN-2f"
      },
      "outputs": [],
      "source": [
        "import gradio as gr\n",
        "\n",
        "def greet(user, history=[]):\n",
        "    embedding = encoder.encode(user)\n",
        "\n",
        "    df['distance'] = df['embedding'].map(lambda x: cosine_similarity([embedding], [x]).squeeze())\n",
        "    answer = df.loc[df['distance'].idxmax()]\n",
        "\n",
        "    history.append([user, answer['챗봇']])\n",
        "\n",
        "    return history, history\n",
        "\n",
        "demo = gr.Interface(fn=greet, inputs=[\"text\", \"state\"], outputs=[\"chatbot\", \"state\"])\n",
        "\n",
        "demo.launch(debug=True, share=True)"
      ]
    }
  ],
  "metadata": {
    "colab": {
      "provenance": [],
      "include_colab_link": true
    },
    "kernelspec": {
      "display_name": "Python 3",
      "name": "python3"
    },
    "language_info": {
      "name": "python"
    }
  },
  "nbformat": 4,
  "nbformat_minor": 0
}